{
 "cells": [
  {
   "cell_type": "markdown",
   "id": "02c7c18f",
   "metadata": {},
   "source": [
    "### 0. Prereqs\n",
    "\n",
    "- A W&B account (https://wandb.ai/signup). \n",
    "- python>=3.9\n",
    "- wandb installed and logged in."
   ]
  },
  {
   "cell_type": "code",
   "execution_count": null,
   "id": "e3466f2a",
   "metadata": {},
   "outputs": [],
   "source": [
    "# I'm installing the core wand and nbformat library.\n",
    "# nbformat is required to save notebook history.\n",
    "# scikit-learn and joblib are not necessary but are used for this demo.\n",
    "%pip install python-dotenv wandb nbformat scikit-learn joblib -q"
   ]
  },
  {
   "cell_type": "markdown",
   "id": "f4440acc",
   "metadata": {},
   "source": [
    "I created a .env file with the entries. You need to modify and use values specific to your registry.\n",
    "\n",
    "```text\n",
    "WANDB_API_KEY=xxxxxxxxxxxxxxxxxxxxxxxxxxx\n",
    "WANDB_ORG_ENTITY=olaekdahl-ciracon-org\n",
    "WANDB_TEAM_ENTITY=olaekdahl-ciracon\n",
    "WANDB_PROJECT=demo\n",
    "WANDB_COLLECTION=iris-clf\n",
    "```"
   ]
  },
  {
   "cell_type": "code",
   "execution_count": 1,
   "id": "5d58905e",
   "metadata": {},
   "outputs": [
    {
     "name": "stderr",
     "output_type": "stream",
     "text": [
      "\u001b[34m\u001b[1mwandb\u001b[0m: \u001b[33mWARNING\u001b[0m If you're specifying your api key in code, ensure this code is not shared publicly.\n",
      "\u001b[34m\u001b[1mwandb\u001b[0m: \u001b[33mWARNING\u001b[0m Consider setting the WANDB_API_KEY environment variable, or running `wandb login` from the command line.\n",
      "\u001b[34m\u001b[1mwandb\u001b[0m: Appending key for api.wandb.ai to your netrc file: /home/ola/.netrc\n",
      "\u001b[34m\u001b[1mwandb\u001b[0m: Currently logged in as: \u001b[33molaekdahl\u001b[0m to \u001b[32mhttps://api.wandb.ai\u001b[0m. Use \u001b[1m`wandb login --relogin`\u001b[0m to force relogin\n"
     ]
    },
    {
     "data": {
      "text/plain": [
       "True"
      ]
     },
     "execution_count": 1,
     "metadata": {},
     "output_type": "execute_result"
    }
   ],
   "source": [
    "# You will be asked for an API key. \n",
    "# You'll find that after you create your W&B account.\n",
    "# I store my API key in a .env file.\n",
    "import os\n",
    "from dotenv import load_dotenv\n",
    "load_dotenv()\n",
    "import wandb\n",
    "wandb.login(key=os.getenv(\"WANDB_API_KEY\"))"
   ]
  },
  {
   "cell_type": "markdown",
   "id": "71e94baf",
   "metadata": {},
   "source": [
    "### 1. What the W&B Registry is (mental model)\n",
    "\n",
    "- Registry = your organization's central catalog of versioned artifacts (datasets, models, etc.). It's built on Artifacts and organizes versions into collections. Think: \"Registered Model\" or \"Registered Dataset\" with version history, lineage, and governance. \n",
    "\n",
    "- W&B ships core registries for Models and Datasets (you can also create custom registries)."
   ]
  },
  {
   "cell_type": "markdown",
   "id": "ee93013a",
   "metadata": {},
   "source": [
    "## 2. Registry UI\n",
    "\n",
    "- Go to Registry in the W&B app (https://wandb.ai/registry/). You'll see core registries (Models, Datasets). You can also create custom ones. \n",
    "\n",
    "- (Optional) Create protected aliases like production/staging in the registry settings. These are locked labels you’ll apply to versions to prevent accidental changes. \n",
    "\n",
    "- (Optional) Create a collection (e.g., iris-classifier) under the Models registry. You can also create collections programmatically when you first link a version. "
   ]
  },
  {
   "cell_type": "markdown",
   "id": "592f9db1",
   "metadata": {},
   "source": [
    "## 3. Train → log artifact → link to Registry"
   ]
  },
  {
   "cell_type": "code",
   "execution_count": 3,
   "id": "841eb76c",
   "metadata": {},
   "outputs": [
    {
     "data": {
      "text/html": [
       "Tracking run with wandb version 0.21.1"
      ],
      "text/plain": [
       "<IPython.core.display.HTML object>"
      ]
     },
     "metadata": {},
     "output_type": "display_data"
    },
    {
     "data": {
      "text/html": [
       "Run data is saved locally in <code>/home/ola/ciracon/wandb/wandb/run-20250809_095725-e8to1gzx</code>"
      ],
      "text/plain": [
       "<IPython.core.display.HTML object>"
      ]
     },
     "metadata": {},
     "output_type": "display_data"
    },
    {
     "data": {
      "text/html": [
       "Syncing run <strong><a href='https://wandb.ai/olaekdahl-ciracon/demo/runs/e8to1gzx' target=\"_blank\">worldly-rain-1</a></strong> to <a href='https://wandb.ai/olaekdahl-ciracon/demo' target=\"_blank\">Weights & Biases</a> (<a href='https://wandb.me/developer-guide' target=\"_blank\">docs</a>)<br>"
      ],
      "text/plain": [
       "<IPython.core.display.HTML object>"
      ]
     },
     "metadata": {},
     "output_type": "display_data"
    },
    {
     "data": {
      "text/html": [
       " View project at <a href='https://wandb.ai/olaekdahl-ciracon/demo' target=\"_blank\">https://wandb.ai/olaekdahl-ciracon/demo</a>"
      ],
      "text/plain": [
       "<IPython.core.display.HTML object>"
      ]
     },
     "metadata": {},
     "output_type": "display_data"
    },
    {
     "data": {
      "text/html": [
       " View run at <a href='https://wandb.ai/olaekdahl-ciracon/demo/runs/e8to1gzx' target=\"_blank\">https://wandb.ai/olaekdahl-ciracon/demo/runs/e8to1gzx</a>"
      ],
      "text/plain": [
       "<IPython.core.display.HTML object>"
      ]
     },
     "metadata": {},
     "output_type": "display_data"
    },
    {
     "name": "stdout",
     "output_type": "stream",
     "text": [
      "Linked to Registry collection: wandb-registry-Model/iris-clf with aliases: candidate-20250809, latest-candidate\n"
     ]
    },
    {
     "data": {
      "text/html": [],
      "text/plain": [
       "<IPython.core.display.HTML object>"
      ]
     },
     "metadata": {},
     "output_type": "display_data"
    },
    {
     "data": {
      "text/html": [
       "<br>    <style><br>        .wandb-row {<br>            display: flex;<br>            flex-direction: row;<br>            flex-wrap: wrap;<br>            justify-content: flex-start;<br>            width: 100%;<br>        }<br>        .wandb-col {<br>            display: flex;<br>            flex-direction: column;<br>            flex-basis: 100%;<br>            flex: 1;<br>            padding: 10px;<br>        }<br>    </style><br><div class=\"wandb-row\"><div class=\"wandb-col\"><h3>Run history:</h3><br/><table class=\"wandb\"><tr><td>test_acc</td><td>▁</td></tr></table><br/></div><div class=\"wandb-col\"><h3>Run summary:</h3><br/><table class=\"wandb\"><tr><td>test_acc</td><td>1</td></tr></table><br/></div></div>"
      ],
      "text/plain": [
       "<IPython.core.display.HTML object>"
      ]
     },
     "metadata": {},
     "output_type": "display_data"
    },
    {
     "data": {
      "text/html": [
       " View run <strong style=\"color:#cdcd00\">worldly-rain-1</strong> at: <a href='https://wandb.ai/olaekdahl-ciracon/demo/runs/e8to1gzx' target=\"_blank\">https://wandb.ai/olaekdahl-ciracon/demo/runs/e8to1gzx</a><br> View project at: <a href='https://wandb.ai/olaekdahl-ciracon/demo' target=\"_blank\">https://wandb.ai/olaekdahl-ciracon/demo</a><br>Synced 5 W&B file(s), 0 media file(s), 2 artifact file(s) and 0 other file(s)"
      ],
      "text/plain": [
       "<IPython.core.display.HTML object>"
      ]
     },
     "metadata": {},
     "output_type": "display_data"
    },
    {
     "data": {
      "text/html": [
       "Find logs at: <code>./wandb/run-20250809_095725-e8to1gzx/logs</code>"
      ],
      "text/plain": [
       "<IPython.core.display.HTML object>"
      ]
     },
     "metadata": {},
     "output_type": "display_data"
    }
   ],
   "source": [
    "import os, time\n",
    "import joblib\n",
    "import wandb\n",
    "from sklearn.datasets import load_iris\n",
    "from sklearn.linear_model import LogisticRegression\n",
    "from sklearn.model_selection import train_test_split\n",
    "\n",
    "# IMPORTANT: use your ORG's team entity (not your personal user) so you can link to the Registry.\n",
    "WANDB_TEAM_ENTITY = os.getenv(\"WANDB_TEAM_ENTITY\", \"olaekdahl-ciracon\")\n",
    "PROJECT = os.getenv(\"WANDB_PROJECT\", \"demo\")\n",
    "REGISTRY_NAME = os.getenv(\"WANDB_REGISTRY\", \"Model\")  # core \"Models\" registry\n",
    "COLLECTION_NAME = os.getenv(\"WANDB_COLLECTION\", \"iris-clf\")  # will be created if absent\n",
    "\n",
    "run = wandb.init(entity=WANDB_TEAM_ENTITY, project=PROJECT, job_type=\"train\")\n",
    "\n",
    "# 1) Train a trivial model\n",
    "X, y = load_iris(return_X_y=True)\n",
    "Xtr, Xte, ytr, yte = train_test_split(X, y, test_size=0.2, random_state=42)\n",
    "clf = LogisticRegression(max_iter=1000, random_state=42).fit(Xtr, ytr)\n",
    "acc = clf.score(Xte, yte)\n",
    "wandb.log({\"test_acc\": acc})\n",
    "\n",
    "# 2) Save model locally and create an Artifact\n",
    "os.makedirs(\"artifacts\", exist_ok=True)\n",
    "model_path = \"artifacts/iris_logreg.joblib\"\n",
    "joblib.dump(clf, model_path)\n",
    "\n",
    "artifact = wandb.Artifact(\n",
    "    name=\"iris_logreg\",          # logical artifact name within the project\n",
    "    type=\"model\",                # collection will accept \"model\" type\n",
    "    metadata={\"test_acc\": acc},  # optional metadata\n",
    ")\n",
    "\n",
    "artifact.add_file(model_path)\n",
    "\n",
    "# 3) Link this artifact version into the org-wide Registry collection\n",
    "target_path = f\"wandb-registry-{REGISTRY_NAME}/{COLLECTION_NAME}\"\n",
    "\n",
    "# Add non-protected aliases programmatically (e.g., \"candidate-YYYYMMDD\")\n",
    "date_alias = time.strftime(\"candidate-%Y%m%d\")\n",
    "run.link_artifact(\n",
    "    artifact=artifact,\n",
    "    target_path=target_path,\n",
    "    aliases=[date_alias, \"latest-candidate\"]\n",
    ")\n",
    "\n",
    "print(f\"Linked to Registry collection: {target_path} with aliases: {date_alias}, latest-candidate\")\n",
    "run.finish()\n"
   ]
  },
  {
   "cell_type": "markdown",
   "id": "5d66a685",
   "metadata": {},
   "source": [
    "### Notes:\n",
    "\n",
    "- `run.link_artifact()` both logs the artifact and links that version into the registry's collection. If the collection doesn't exist, it's created. \n",
    "\n",
    "- You can add aliases at link time. Use protected aliases (e.g., production) for governance. Create them in the registry UI, then you can add them programmatically. \n",
    "\n",
    "- Artifacts must be logged under a team entity to be linkable."
   ]
  },
  {
   "cell_type": "markdown",
   "id": "8c0579d7",
   "metadata": {},
   "source": [
    "## 4. Promote a candidate to production\n",
    "\n",
    "- Create the protected alias production in the registry settings:\n",
    "    1. Navigate to the **W&B Registry**.\n",
    "    2. Click the **View details** button in a collection.\n",
    "    3. Within the **Versions** section, click the View button for a specific artifact version.\n",
    "    4. Click the + button to add one or more aliases next to the Aliases field. \n",
    "\n",
    "<img src=\"images/wandb-registry-details.png\" alt=\"W&B Registry Details\" width=\"800\"/>"
   ]
  },
  {
   "cell_type": "markdown",
   "id": "ac801884",
   "metadata": {},
   "source": [
    "## 5. Consume a model from the Registry by alias"
   ]
  },
  {
   "cell_type": "code",
   "execution_count": 10,
   "id": "08a6f5ca",
   "metadata": {},
   "outputs": [
    {
     "data": {
      "text/html": [
       "Changes to your `wandb` environment variables will be ignored because your `wandb` session has already started. For more information on how to modify your settings with `wandb.init()` arguments, please refer to <a href='https://wandb.me/wandb-init' target=\"_blank\">the W&B docs</a>."
      ],
      "text/plain": [
       "<IPython.core.display.HTML object>"
      ]
     },
     "metadata": {},
     "output_type": "display_data"
    },
    {
     "data": {
      "text/html": [
       "Finishing previous runs because reinit is set to 'default'."
      ],
      "text/plain": [
       "<IPython.core.display.HTML object>"
      ]
     },
     "metadata": {},
     "output_type": "display_data"
    },
    {
     "data": {
      "text/html": [],
      "text/plain": [
       "<IPython.core.display.HTML object>"
      ]
     },
     "metadata": {},
     "output_type": "display_data"
    },
    {
     "data": {
      "text/html": [
       " View run <strong style=\"color:#cdcd00\">avid-wildflower-6</strong> at: <a href='https://wandb.ai/olaekdahl-ciracon/demo/runs/ru60ta0j' target=\"_blank\">https://wandb.ai/olaekdahl-ciracon/demo/runs/ru60ta0j</a><br> View project at: <a href='https://wandb.ai/olaekdahl-ciracon/demo' target=\"_blank\">https://wandb.ai/olaekdahl-ciracon/demo</a><br>Synced 5 W&B file(s), 0 media file(s), 0 artifact file(s) and 0 other file(s)"
      ],
      "text/plain": [
       "<IPython.core.display.HTML object>"
      ]
     },
     "metadata": {},
     "output_type": "display_data"
    },
    {
     "data": {
      "text/html": [
       "Find logs at: <code>./wandb/run-20250809_101056-ru60ta0j/logs</code>"
      ],
      "text/plain": [
       "<IPython.core.display.HTML object>"
      ]
     },
     "metadata": {},
     "output_type": "display_data"
    },
    {
     "data": {
      "text/html": [
       "Tracking run with wandb version 0.21.1"
      ],
      "text/plain": [
       "<IPython.core.display.HTML object>"
      ]
     },
     "metadata": {},
     "output_type": "display_data"
    },
    {
     "data": {
      "text/html": [
       "Run data is saved locally in <code>/home/ola/ciracon/wandb/wandb/run-20250809_101149-317qtg6n</code>"
      ],
      "text/plain": [
       "<IPython.core.display.HTML object>"
      ]
     },
     "metadata": {},
     "output_type": "display_data"
    },
    {
     "data": {
      "text/html": [
       "Syncing run <strong><a href='https://wandb.ai/olaekdahl-ciracon/demo/runs/317qtg6n' target=\"_blank\">fiery-grass-7</a></strong> to <a href='https://wandb.ai/olaekdahl-ciracon/demo' target=\"_blank\">Weights & Biases</a> (<a href='https://wandb.me/developer-guide' target=\"_blank\">docs</a>)<br>"
      ],
      "text/plain": [
       "<IPython.core.display.HTML object>"
      ]
     },
     "metadata": {},
     "output_type": "display_data"
    },
    {
     "data": {
      "text/html": [
       " View project at <a href='https://wandb.ai/olaekdahl-ciracon/demo' target=\"_blank\">https://wandb.ai/olaekdahl-ciracon/demo</a>"
      ],
      "text/plain": [
       "<IPython.core.display.HTML object>"
      ]
     },
     "metadata": {},
     "output_type": "display_data"
    },
    {
     "data": {
      "text/html": [
       " View run at <a href='https://wandb.ai/olaekdahl-ciracon/demo/runs/317qtg6n' target=\"_blank\">https://wandb.ai/olaekdahl-ciracon/demo/runs/317qtg6n</a>"
      ],
      "text/plain": [
       "<IPython.core.display.HTML object>"
      ]
     },
     "metadata": {},
     "output_type": "display_data"
    },
    {
     "name": "stdout",
     "output_type": "stream",
     "text": [
      "Fetching: olaekdahl-ciracon-org/wandb-registry-model/iris-clf:production\n"
     ]
    },
    {
     "name": "stderr",
     "output_type": "stream",
     "text": [
      "\u001b[34m\u001b[1mwandb\u001b[0m:   1 of 1 files downloaded.  \n"
     ]
    },
    {
     "name": "stdout",
     "output_type": "stream",
     "text": [
      "Loaded model LogisticRegression(max_iter=1000, random_state=42) for alias: production\n"
     ]
    }
   ],
   "source": [
    "import os, joblib, wandb\n",
    "from dotenv import load_dotenv\n",
    "load_dotenv()\n",
    "\n",
    "WANDB_ORG_ENTITY = os.getenv(\"WANDB_ORG_ENTITY\", \"olaekdahl-ciracon-org\")\n",
    "WANDB_TEAM_ENTITY = os.getenv(\"WANDB_TEAM_ENTITY\", \"olaekdahl-ciracon\")  # must match the org/team that owns the registry\n",
    "PROJECT = os.getenv(\"WANDB_PROJECT\", \"demo\")\n",
    "\n",
    "REGISTRY = \"model\"\n",
    "COLLECTION = os.getenv(\"WANDB_COLLECTION\", \"iris-clf\")\n",
    "ALIAS = os.getenv(\"MODEL_ALIAS\", \"production\")\n",
    "\n",
    "run = wandb.init(entity=WANDB_TEAM_ENTITY, project=PROJECT, job_type=\"inference\")\n",
    "\n",
    "# olaekdahl-ciracon-org/wandb-registry-model/iris-clf:production\n",
    "artifact_name = f\"{WANDB_ORG_ENTITY}/wandb-registry-{REGISTRY}/{COLLECTION}:{ALIAS}\"\n",
    "print(\"Fetching:\", artifact_name)\n",
    "\n",
    "art = run.use_artifact(artifact_or_name = artifact_name)\n",
    "model_dir = art.download()\n",
    "clf = joblib.load(os.path.join(model_dir, \"iris_logreg.joblib\"))\n",
    "\n",
    "print(f\"Loaded model {clf} for alias: {ALIAS}\")\n"
   ]
  }
 ],
 "metadata": {
  "kernelspec": {
   "display_name": ".venv",
   "language": "python",
   "name": "python3"
  },
  "language_info": {
   "codemirror_mode": {
    "name": "ipython",
    "version": 3
   },
   "file_extension": ".py",
   "mimetype": "text/x-python",
   "name": "python",
   "nbconvert_exporter": "python",
   "pygments_lexer": "ipython3",
   "version": "3.12.7"
  }
 },
 "nbformat": 4,
 "nbformat_minor": 5
}
